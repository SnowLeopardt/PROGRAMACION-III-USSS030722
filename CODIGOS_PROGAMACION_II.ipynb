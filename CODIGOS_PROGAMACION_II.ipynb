{
  "cells": [
    {
      "cell_type": "markdown",
      "metadata": {
        "id": "view-in-github",
        "colab_type": "text"
      },
      "source": [
        "<a href=\"https://colab.research.google.com/github/SnowLeopardt/PROGRAMACION-III-USSS030722/blob/main/CODIGOS_PROGAMACION_II.ipynb\" target=\"_parent\"><img src=\"https://colab.research.google.com/assets/colab-badge.svg\" alt=\"Open In Colab\"/></a>"
      ]
    },
    {
      "cell_type": "markdown",
      "metadata": {
        "id": "F40pH3Ih7maL"
      },
      "source": [
        "TIPOS DE DATOS"
      ]
    },
    {
      "cell_type": "code",
      "execution_count": null,
      "metadata": {
        "colab": {
          "base_uri": "https://localhost:8080/"
        },
        "id": "nsaHrLNq7kZ2",
        "outputId": "e54d5ab6-a42d-4c80-eda8-ec409814a44e"
      },
      "outputs": [
        {
          "name": "stdout",
          "output_type": "stream",
          "text": [
            "Los valores: Num 1:  5  Num 2:  4.9\n",
            "Valor: Num 1:  5\n"
          ]
        }
      ],
      "source": [
        "num1 = 5 #variable de tipo entero.\n",
        "num2 = 4.9 #variable de tipo double, real, decimal.\n",
        "print(\"Los valores: Num 1: \", num1, \" Num 2: \", num2)\n",
        "\n",
        "#num1 = 4.9\n",
        "print(\"Valor: Num 1: \", num1)"
      ]
    },
    {
      "cell_type": "code",
      "execution_count": null,
      "metadata": {
        "colab": {
          "base_uri": "https://localhost:8080/"
        },
        "id": "yayrOQVN8u3r",
        "outputId": "2caa7f6a-ee00-40cb-9cc3-0592dd365e6d"
      },
      "outputs": [
        {
          "name": "stdout",
          "output_type": "stream",
          "text": [
            "Variable Booleana:  False\n"
          ]
        }
      ],
      "source": [
        "varLogica = False\n",
        "\n",
        "print(\"Variable Booleana: \", varLogica)"
      ]
    },
    {
      "cell_type": "code",
      "execution_count": null,
      "metadata": {
        "colab": {
          "base_uri": "https://localhost:8080/"
        },
        "id": "Zig099CE9CAa",
        "outputId": "8fba56ca-0635-4a01-aaa0-b5f39719afa8"
      },
      "outputs": [
        {
          "name": "stdout",
          "output_type": "stream",
          "text": [
            "Mi Nombre:  Henry Cortez Iniciales:  H   Longitud:  12\n",
            "Primer Nombre:  Henry\n",
            "Primer Nombre:  Henry\n",
            "Apellido:   Cortez\n",
            "Apellid:   Cortez\n",
            "Apellido:  ry Cortez\n"
          ]
        }
      ],
      "source": [
        "nombre = \"Henry Cortez\"\n",
        "print(\"Mi Nombre: \", nombre, \"Iniciales: \", nombre[0], nombre[5], \"Longitud: \", len(nombre) )\n",
        "print(\"Primer Nombre: \", nombre[0:5])\n",
        "print(\"Primer Nombre: \", nombre[:5])\n",
        "print(\"Apellido: \", nombre[5:len(nombre)])\n",
        "print(\"Apellid: \", nombre[5:])\n",
        "print(\"Apellido: \", nombre[-9:])\n"
      ]
    },
    {
      "cell_type": "code",
      "execution_count": null,
      "metadata": {
        "colab": {
          "base_uri": "https://localhost:8080/"
        },
        "id": "3SjFmqx1BEtT",
        "outputId": "0cce973d-3503-401c-d2cd-2cb0428b19eb"
      },
      "outputs": [
        {
          "name": "stdout",
          "output_type": "stream",
          "text": [
            "<class 'int'>\n",
            "<class 'float'>\n",
            "<class 'bool'>\n",
            "<class 'str'>\n"
          ]
        }
      ],
      "source": [
        "print(type(num1))\n",
        "print(type(num2))\n",
        "print(type(varLogica))\n",
        "print(type(nombre))"
      ]
    },
    {
      "cell_type": "code",
      "execution_count": null,
      "metadata": {
        "colab": {
          "base_uri": "https://localhost:8080/"
        },
        "id": "FEQBcLJfCB2l",
        "outputId": "6b50b856-456a-455f-c7c7-aa86371cbd74"
      },
      "outputs": [
        {
          "name": "stdout",
          "output_type": "stream",
          "text": [
            "Num 1: 1\n",
            "Num 2: 2\n",
            "La suma es:  3.0\n"
          ]
        }
      ],
      "source": [
        "num1 = float(input(\"Num 1: \"))\n",
        "num2 = float(input(\"Num 2: \"))\n",
        "resp = num1 + num2\n",
        "print(\"La suma es: \", resp)"
      ]
    },
    {
      "cell_type": "code",
      "execution_count": null,
      "metadata": {
        "id": "2Ux8q7gtCqLU"
      },
      "outputs": [],
      "source": [
        "def suma(num1, num2):\n",
        "  return num1 + num2"
      ]
    },
    {
      "cell_type": "code",
      "execution_count": null,
      "metadata": {
        "colab": {
          "base_uri": "https://localhost:8080/"
        },
        "id": "w4vsG6DsCy8E",
        "outputId": "722f4a0f-8614-4f87-db71-c90d8402efc7"
      },
      "outputs": [
        {
          "name": "stdout",
          "output_type": "stream",
          "text": [
            "Num 1: 1\n",
            "N4.26um 2: 2\n",
            "3.0\n"
          ]
        }
      ],
      "source": [
        "num1 = float(input(\"Num 1: \"))\n",
        "num2 = float(input(\"N4.26um 2: \"))\n",
        "resp = suma(num1, num2)\n",
        "print(resp)"
      ]
    },
    {
      "cell_type": "markdown",
      "metadata": {
        "id": "6cq55WCdAnzB"
      },
      "source": [
        "**FUNCIONES DE USUARIO**\n",
        "\n",
        "* Convertir grados celsius a farenheit."
      ]
    },
    {
      "cell_type": "code",
      "execution_count": null,
      "metadata": {
        "id": "7SufsIquBvy3"
      },
      "outputs": [],
      "source": [
        "def convertir_cf(c):\n",
        "  return 32 + c*9/5"
      ]
    },
    {
      "cell_type": "code",
      "execution_count": null,
      "metadata": {
        "colab": {
          "base_uri": "https://localhost:8080/"
        },
        "id": "SurIz-llAnOq",
        "outputId": "7e477dfb-3f17-4388-ee3e-a392b45e39bb"
      },
      "outputs": [
        {
          "name": "stdout",
          "output_type": "stream",
          "text": [
            "Celsius: 1\n",
            "F:  33.8\n"
          ]
        }
      ],
      "source": [
        "c = float(input(\"Celsius: \"))\n",
        "print(\"F: \", convertir_cf(c))"
      ]
    },
    {
      "cell_type": "markdown",
      "metadata": {
        "id": "kZ5SZj9jGwOd"
      },
      "source": [
        "**EJERCICIOS**\n",
        "* Convertir de Farenheit a Celsius\n",
        "* Convertir de [Celsius, Farenheit] a Kelvin"
      ]
    },
    {
      "cell_type": "markdown",
      "metadata": {
        "id": "QASAQE1qKDph"
      },
      "source": [
        "* CALCULAR EL SUELDO MENSUAL"
      ]
    },
    {
      "cell_type": "code",
      "execution_count": null,
      "metadata": {
        "id": "T-V9nZ5ZJHhf"
      },
      "outputs": [],
      "source": [
        "def sueldo(numHrs, valorXhr):\n",
        "  sueldo = numHrs*valorXhr*30\n",
        "  if(numHrs>8):\n",
        "    sueldo += (numHrs-8)*valorXhr*2*30\n",
        "  #isss + afp = 3 + 6.25 = 9.25 = 100 - 9.25 = 90.75/100 = 0.9075\n",
        "  #sueldo = sueldo*0.9075\n",
        "  return sueldo"
      ]
    },
    {
      "cell_type": "code",
      "execution_count": null,
      "metadata": {
        "id": "EVHH4A95VL5O"
      },
      "outputs": [],
      "source": [
        "tabla_isr = [\n",
        "    [0.01, 472, 0, 0],\n",
        "    [472.01, 895.24, 0.1, 17.67],\n",
        "    [895.25, 2038.1, 0.2, 60.00],\n",
        "    [2038.11,9999999, 0.3, 288.57]\n",
        "]"
      ]
    },
    {
      "cell_type": "code",
      "execution_count": null,
      "metadata": {
        "id": "1L4sEmNOXTiC"
      },
      "outputs": [],
      "source": [
        "def calcularIsr(sueldo, sueldoNeto):\n",
        "  impSr = 0\n",
        "  for tramo in tabla_isr:\n",
        "    if sueldo>tramo[0] and sueldo<=tramo[1]:\n",
        "      impSr = (sueldoNeto-tramo[0])*tramo[2] + tramo[3]\n",
        "  return impSr"
      ]
    },
    {
      "cell_type": "code",
      "execution_count": null,
      "metadata": {
        "colab": {
          "base_uri": "https://localhost:8080/"
        },
        "id": "yh6CLsKzKsrj",
        "outputId": "b7b001ae-9bac-4388-a10e-ebcf9b37c2a6"
      },
      "outputs": [
        {
          "name": "stdout",
          "output_type": "stream",
          "text": [
            "Horas trabajadas: 1\n",
            "Sueldo:  120.0 ISR:  0.0 108.89999999999999\n"
          ]
        }
      ],
      "source": [
        "valorXhr = 4\n",
        "#isss = 3%\n",
        "#afp = 6.25%\n",
        "numHrs = float(input(\"Horas trabajadas: \"))\n",
        "s = sueldo(numHrs, valorXhr)\n",
        "isr = calcularIsr(s, s*0.9075)\n",
        "print( \"Sueldo: \", s, \"ISR: \", isr, s*0.9075-isr )"
      ]
    },
    {
      "cell_type": "markdown",
      "metadata": {
        "id": "heQxy-5yC4lK"
      },
      "source": [
        "**FUNCIONES LAMBDA**\n",
        "* FUNCIONES PRECONTRUIDAS MAP, FILTER, FIND, REDUCE, ETC."
      ]
    },
    {
      "cell_type": "code",
      "execution_count": null,
      "metadata": {
        "id": "eeH3DBemEiwZ"
      },
      "outputs": [],
      "source": [
        "def elevarCuadrado(num):\n",
        "  return num**2"
      ]
    },
    {
      "cell_type": "code",
      "execution_count": null,
      "metadata": {
        "id": "RTv6ZkhUFA1i"
      },
      "outputs": [],
      "source": [
        "data = [1,2,3,4,5]"
      ]
    },
    {
      "cell_type": "code",
      "execution_count": null,
      "metadata": {
        "colab": {
          "base_uri": "https://localhost:8080/"
        },
        "id": "PctATc9kDA2S",
        "outputId": "3f7d6f99-ccac-4b4f-bd2b-596f913ea9d7"
      },
      "outputs": [
        {
          "name": "stdout",
          "output_type": "stream",
          "text": [
            "[1, 4, 9, 16, 25]\n"
          ]
        }
      ],
      "source": [
        "resp = map(elevarCuadrado, data)\n",
        "print(list(resp))"
      ]
    },
    {
      "cell_type": "code",
      "execution_count": null,
      "metadata": {
        "colab": {
          "base_uri": "https://localhost:8080/"
        },
        "id": "vNONfviMEuzJ",
        "outputId": "43847e22-597b-4243-8d36-4b4ef0dbe641"
      },
      "outputs": [
        {
          "name": "stdout",
          "output_type": "stream",
          "text": [
            "[1, 4, 9, 16, 25]\n"
          ]
        }
      ],
      "source": [
        "resp = map(lambda n:n**2, data)\n",
        "print(list(resp))"
      ]
    },
    {
      "cell_type": "code",
      "execution_count": null,
      "metadata": {
        "colab": {
          "base_uri": "https://localhost:8080/"
        },
        "id": "jSN45xd5E2Vi",
        "outputId": "0b788284-d0d6-4182-e1ff-fe7878669a2c"
      },
      "outputs": [
        {
          "name": "stdout",
          "output_type": "stream",
          "text": [
            "[3, 4, 5]\n"
          ]
        }
      ],
      "source": [
        "resp = filter(lambda n:n>2, data)\n",
        "print( list(resp) )"
      ]
    },
    {
      "cell_type": "code",
      "execution_count": null,
      "metadata": {
        "id": "e83DxapWFYQp"
      },
      "outputs": [],
      "source": [
        "resp = functools.reduce(lambda a,n:a+n,data)\n",
        "print(resp)"
      ]
    },
    {
      "cell_type": "markdown",
      "metadata": {
        "id": "9RYnyWcrH5NJ"
      },
      "source": [
        "**TUPLAS**"
      ]
    },
    {
      "cell_type": "code",
      "execution_count": null,
      "metadata": {
        "colab": {
          "base_uri": "https://localhost:8080/"
        },
        "id": "cUXhU5ubH46h",
        "outputId": "bbae442a-cf08-459a-d245-a1d1d0e15618"
      },
      "outputs": [
        {
          "name": "stdout",
          "output_type": "stream",
          "text": [
            "1\n",
            "7\n"
          ]
        }
      ],
      "source": [
        "semana = (\"domingo\", \"lunes\", \"martes\", \"miercoles\", \"jueves\", \"viernes\", \"sabado\")\n",
        "#semana[0] = \"otro\"\n",
        "print( semana.count(\"domingo\") ) #count cuenta el numero de veces que aparece un elemento en la tupla\n",
        "print( len(semana) )"
      ]
    },
    {
      "cell_type": "markdown",
      "metadata": {
        "id": "r8xQvE7MJytA"
      },
      "source": [
        "**LISTAS** => **Array**"
      ]
    },
    {
      "cell_type": "code",
      "execution_count": null,
      "metadata": {
        "colab": {
          "base_uri": "https://localhost:8080/"
        },
        "id": "nomZjGFhJkBw",
        "outputId": "d3d965a4-c3d2-4205-d6c8-512a6c81e1c9"
      },
      "outputs": [
        {
          "name": "stdout",
          "output_type": "stream",
          "text": [
            "['nov', 'dic']\n",
            "['ene', 'feb']\n",
            "['enero', 'feb', 'mar', 'abr', 'may', 'jun', 'jul', 'ago', 'sep', 'oct', 'nov', 'dic']\n"
          ]
        }
      ],
      "source": [
        "meses = [\"ene\", \"feb\", \"mar\", \"abr\", \"may\", \"jun\", \"jul\", \"ago\", \"sep\", \"oct\", \"nov\", \"dic\"]\n",
        "print( meses[-2:] ) #ultimos dos meses del año\n",
        "print( meses[:2] ) #primero dos meses del año\n",
        "\n",
        "meses[0] = \"enero\"\n",
        "\n",
        "print( meses )"
      ]
    },
    {
      "cell_type": "code",
      "execution_count": null,
      "metadata": {
        "colab": {
          "base_uri": "https://localhost:8080/"
        },
        "id": "6ctEMmtTKzS5",
        "outputId": "0dbc90e3-551d-408f-cfb4-c97f0e8151fd"
      },
      "outputs": [
        {
          "name": "stdout",
          "output_type": "stream",
          "text": [
            "Progra II\n"
          ]
        }
      ],
      "source": [
        "materias = [ [\"Progra I\", [5,6,8], [8,7,9], [9,10,9] ], [\"Progra II\"] ]\n",
        "print( materias[1][0] )"
      ]
    },
    {
      "cell_type": "markdown",
      "metadata": {
        "id": "RwntUNyBLnxB"
      },
      "source": [
        "**DICCIONARIOS** => **JSON**"
      ]
    },
    {
      "cell_type": "code",
      "execution_count": null,
      "metadata": {
        "colab": {
          "base_uri": "https://localhost:8080/"
        },
        "id": "yvSSwGxWLsRU",
        "outputId": "ae4fdf71-c0ca-4d39-b237-a4d8e86c67ba"
      },
      "outputs": [
        {
          "name": "stdout",
          "output_type": "stream",
          "text": [
            "5\n"
          ]
        }
      ],
      "source": [
        "materias = {\n",
        "    \"Progra I\": {\n",
        "        \"c1\": {\n",
        "          \"lab1\" : 5,\n",
        "          \"lab2\" : 6,\n",
        "          \"parcial\" : 8\n",
        "      },\n",
        "      \"c2\": {\n",
        "          \"lab1\" : 8,\n",
        "          \"lab2\" : 7,\n",
        "          \"parcial\" : 9\n",
        "      },\n",
        "      \"c3\": {\n",
        "          \"lab1\" : 9,\n",
        "          \"lab2\" : 10,\n",
        "          \"parcial\" : 9\n",
        "      }\n",
        "    },\n",
        "    \"Progra II\" :{\n",
        "\n",
        "    }\n",
        "}\n",
        "print( materias[\"Progra I\"][\"c1\"][\"lab1\"] )"
      ]
    },
    {
      "cell_type": "markdown",
      "metadata": {
        "id": "rflA-XK2Gxzp"
      },
      "source": [
        "**LISTAS**"
      ]
    },
    {
      "cell_type": "code",
      "execution_count": null,
      "metadata": {
        "id": "uUSZtwSvG8CR"
      },
      "outputs": [],
      "source": [
        "data = [2,5,6,8,9]"
      ]
    },
    {
      "cell_type": "code",
      "execution_count": null,
      "metadata": {
        "colab": {
          "base_uri": "https://localhost:8080/"
        },
        "id": "EVZwYIs6HP1Y",
        "outputId": "7455c227-c1de-4507-b85c-e449c19bc691"
      },
      "outputs": [
        {
          "name": "stdout",
          "output_type": "stream",
          "text": [
            "[8, 125, 216, 512, 729]\n"
          ]
        }
      ],
      "source": [
        "resp = map(lambda n:n**3, data)\n",
        "print(list(resp))"
      ]
    },
    {
      "cell_type": "code",
      "execution_count": null,
      "metadata": {
        "colab": {
          "base_uri": "https://localhost:8080/"
        },
        "id": "V9_XbvqiIUv9",
        "outputId": "e125616f-6872-420f-a42f-1a147c0fbc71"
      },
      "outputs": [
        {
          "name": "stdout",
          "output_type": "stream",
          "text": [
            "[35.6, 41.0, 42.8, 46.4, 48.2]\n"
          ]
        }
      ],
      "source": [
        "f = map(lambda c:c*9/5 + 32, data)\n",
        "print( list(f) )"
      ]
    },
    {
      "cell_type": "code",
      "execution_count": null,
      "metadata": {
        "colab": {
          "base_uri": "https://localhost:8080/"
        },
        "id": "J72OJuAnKl2r",
        "outputId": "abaa672e-0ca3-4052-e9b3-b443a5d177c0"
      },
      "outputs": [
        {
          "name": "stdout",
          "output_type": "stream",
          "text": [
            "[2, 6, 8]\n"
          ]
        }
      ],
      "source": [
        "pares = filter(lambda n:n%2==0, data)\n",
        "print( list(pares) )"
      ]
    },
    {
      "cell_type": "code",
      "execution_count": null,
      "metadata": {
        "colab": {
          "base_uri": "https://localhost:8080/"
        },
        "id": "Tbag1lNsNtCU",
        "outputId": "7f9e679a-f3d4-45d9-afed-935e602e3fde"
      },
      "outputs": [
        {
          "name": "stdout",
          "output_type": "stream",
          "text": [
            "[5, 9]\n"
          ]
        }
      ],
      "source": [
        "impares = filter(lambda n:n%2!=0, data)\n",
        "print( list(impares) )"
      ]
    },
    {
      "cell_type": "markdown",
      "metadata": {
        "id": "ptWdcZGNOYHq"
      },
      "source": [
        "**CICLOS**\n",
        "* FOR"
      ]
    },
    {
      "cell_type": "code",
      "execution_count": null,
      "metadata": {
        "id": "wxR2o4jcOVnL"
      },
      "outputs": [],
      "source": [
        "for item in data:\n",
        "  print(item)"
      ]
    },
    {
      "cell_type": "markdown",
      "metadata": {
        "id": "gQJ7xiLSO8Uh"
      },
      "source": [
        "* WHILE"
      ]
    },
    {
      "cell_type": "code",
      "execution_count": null,
      "metadata": {
        "id": "2ZUiISg8O7ox"
      },
      "outputs": [],
      "source": [
        "i=0\n",
        "n = len(data)\n",
        "while i<n:\n",
        "  print( data[i] )\n",
        "  i+=1"
      ]
    },
    {
      "cell_type": "markdown",
      "metadata": {
        "id": "RHUHe8PZPwmx"
      },
      "source": [
        "**TABLA DE MULTIPLICAR**"
      ]
    },
    {
      "cell_type": "code",
      "execution_count": null,
      "metadata": {
        "id": "bGpBsH0TPJ5g"
      },
      "outputs": [],
      "source": [
        "n = int(input(\"N Tabla: \"))\n",
        "\n",
        "for i in range(1,11):\n",
        "  print( n, \"x\", i, \"=\", n*i )"
      ]
    },
    {
      "cell_type": "code",
      "execution_count": null,
      "metadata": {
        "colab": {
          "base_uri": "https://localhost:8080/"
        },
        "id": "_L4PXBeGSkA8",
        "outputId": "cad7eae6-7a7c-49e4-9e1a-d42968df8b05"
      },
      "outputs": [
        {
          "name": "stdout",
          "output_type": "stream",
          "text": [
            "Edad: 5\n",
            "Soy un niño\n"
          ]
        }
      ],
      "source": [
        "edad = int(input(\"Edad: \"))\n",
        "\n",
        "if edad<=2:\n",
        "  print(\"soy un bebe\")\n",
        "elif edad<=11:\n",
        "  print(\"Soy un niño\")\n",
        "elif edad<18:\n",
        "  print(\"Soy un adolescente\")\n",
        "elif edad<=65:\n",
        "  print(\"soy mayor de edad\")\n",
        "elif edad<=85:\n",
        "  print(\"Soy un adulto mayor\")\n",
        "else:\n",
        "  print(\"Larga vida\")"
      ]
    },
    {
      "cell_type": "code",
      "execution_count": null,
      "metadata": {
        "id": "gM0bEvUTSmya"
      },
      "outputs": [],
      "source": [
        "lista = [5,8,9,15,7,9,2,3, 2, 1]"
      ]
    },
    {
      "cell_type": "code",
      "execution_count": null,
      "metadata": {
        "colab": {
          "base_uri": "https://localhost:8080/"
        },
        "id": "AblaQU4qStll",
        "outputId": "7cbaae80-b77e-4d6a-ccd2-569752ce104d"
      },
      "outputs": [
        {
          "name": "stdout",
          "output_type": "stream",
          "text": [
            "EL numero mayor de la lista:  [5, 8, 9, 15, 7, 9, 2, 3, 2, 1] es:  15\n"
          ]
        }
      ],
      "source": [
        "mayor = 0\n",
        "for num in lista:\n",
        "  if num>mayor:\n",
        "    mayor = num\n",
        "print(\"EL numero mayor de la lista: \", lista, \"es: \", mayor)"
      ]
    },
    {
      "cell_type": "code",
      "execution_count": null,
      "metadata": {
        "colab": {
          "base_uri": "https://localhost:8080/"
        },
        "id": "5Jg3sc5KSvMN",
        "outputId": "72ea4dd9-05b6-4663-e480-b3e45f84c86b"
      },
      "outputs": [
        {
          "name": "stdout",
          "output_type": "stream",
          "text": [
            "15\n"
          ]
        }
      ],
      "source": [
        "mayor = 0\n",
        "i=0\n",
        "n=len(lista)\n",
        "while i<n:\n",
        "  if lista[i]>mayor:\n",
        "    mayor = lista[i]\n",
        "  i+=1\n",
        "print(mayor)"
      ]
    },
    {
      "cell_type": "markdown",
      "metadata": {
        "id": "kp37Mh-9Jm4E"
      },
      "source": [
        "**Escribir un programa que pida la nota de un examen (0-10), e imprima por pantalla la calificacion en formato: \"Suspenso\" si la nota es menor a 5, \"Aprobado\" si es entre 5 inclusive, y 7 sin incluir, \"Notable\" si esta entre 7 inclusive y 9 sin incluir, \"Sobresaliente\" si esta entre 9 inclusive y 10 sin incluir, y \"Honorable\" si es 10**\n"
      ]
    },
    {
      "cell_type": "code",
      "execution_count": null,
      "metadata": {
        "colab": {
          "base_uri": "https://localhost:8080/"
        },
        "id": "3aEtrKofJh38",
        "outputId": "ebda1b09-de91-4d21-ff66-6eb54b827f4a"
      },
      "outputs": [
        {
          "name": "stdout",
          "output_type": "stream",
          "text": [
            "Nota: 10\n",
            "HONORABLE\n"
          ]
        }
      ],
      "source": [
        "nota = float(input(\"Nota: \"))\n",
        "if(nota<0 or nota>10):\n",
        "  print(\"Nota invalida\")\n",
        "elif(nota<5):\n",
        "  print(\"SUPENSO\")\n",
        "elif(nota<7):\n",
        "  print(\"APROBADO\")\n",
        "elif(nota<9):\n",
        "  print(\"NOTABLE\")\n",
        "elif(nota<10):\n",
        "  print(\"SOBRESALIENTE\")\n",
        "else:\n",
        "  print(\"HONORABLE\")"
      ]
    },
    {
      "cell_type": "markdown",
      "metadata": {
        "id": "5vjEaZgMTKgI"
      },
      "source": [
        "**Escriba un programa que muestre la secuencia fibonacci**"
      ]
    },
    {
      "cell_type": "code",
      "execution_count": null,
      "metadata": {
        "id": "-FHRFWknTKIh"
      },
      "outputs": [],
      "source": [
        "limit = int(input(\"Limit: \"))\n",
        "a=0\n",
        "b=1\n",
        "c=0\n",
        "while c<limit:\n",
        "  c=a+b\n",
        "  print(a,\"+\",b,\"=\", c)\n",
        "  b=a\n",
        "  a=c\n"
      ]
    },
    {
      "cell_type": "markdown",
      "metadata": {
        "id": "pGta5MfgSwri"
      },
      "source": []
    },
    {
      "cell_type": "markdown",
      "metadata": {
        "id": "S2FEGrj0c0Yu"
      },
      "source": [
        "1. **Escriba un programa que encuentre la media aritmetica de una serie de numeros introducidos por el usuario**\n",
        "2. **Escriba un programa que determine si una palabra introducida por el usuario es palindrome o no, ejm. de palabras palindrome: Ana, oso, oro, etc.**\n",
        "3. Escriba un programa que convierta un numero instroducido por el usuario a su equivalente en numeros romanos. Ejm: 5 -> V"
      ]
    },
    {
      "cell_type": "code",
      "execution_count": null,
      "metadata": {
        "colab": {
          "base_uri": "https://localhost:8080/"
        },
        "id": "nts39U5w6T7l",
        "outputId": "dc8af6ad-83b4-4c81-eecc-39bb111544e4"
      },
      "outputs": [
        {
          "name": "stdout",
          "output_type": "stream",
          "text": [
            "Introduce un número: 20\n",
            "El número romano equivalente es: XX\n"
          ]
        }
      ],
      "source": [
        "def convertir_a_romano(numero):\n",
        "    valores = [1000, 900, 500, 400, 100, 90, 50, 40, 10, 9, 5, 4, 1]\n",
        "    simbolos = [\"M\", \"CM\", \"D\", \"CD\", \"C\", \"XC\", \"L\", \"XL\", \"X\", \"IX\", \"V\", \"IV\", \"I\"]\n",
        "    numero_romano = \"\"\n",
        "\n",
        "    for i in range(len(valores)):\n",
        "        while numero >= valores[i]:\n",
        "            numero -= valores[i]\n",
        "            numero_romano += simbolos[i]\n",
        "\n",
        "    return numero_romano\n",
        "\n",
        "def main():\n",
        "    try:\n",
        "        numero = int(input(\"Introduce un número: \"))\n",
        "        if 1 <= numero <= 3999:\n",
        "            numero_romano = convertir_a_romano(numero)\n",
        "            print(f\"El número romano equivalente es: {numero_romano}\")\n",
        "        else:\n",
        "            print(\"Por favor, introduce un número entre 1 y 3999.\")\n",
        "    except ValueError:\n",
        "        print(\"Por favor, introduce un número válido.\")\n",
        "\n",
        "if __name__ == \"__main__\":\n",
        "    main()\n"
      ]
    },
    {
      "cell_type": "markdown",
      "metadata": {
        "id": "SO7e1TgjQFzL"
      },
      "source": [
        "**PROGRAMACION ORIENTADA A OBJETOS.**\n",
        "\n",
        "* CLASE"
      ]
    },
    {
      "cell_type": "code",
      "execution_count": null,
      "metadata": {
        "id": "Q4--jycBQRW1"
      },
      "outputs": [],
      "source": [
        "class Calculadora:\n",
        "  def sumar(sefl, num1, num2):\n",
        "    return num1 + num2"
      ]
    },
    {
      "cell_type": "markdown",
      "metadata": {
        "id": "oAURe7sOQqoz"
      },
      "source": [
        "* INSTANCIA DE UNA CLASE"
      ]
    },
    {
      "cell_type": "code",
      "execution_count": null,
      "metadata": {
        "id": "B2S0xUofQmqk"
      },
      "outputs": [],
      "source": [
        "objCalculadora = Calculadora()"
      ]
    },
    {
      "cell_type": "markdown",
      "metadata": {
        "id": "9_7inFkhRBmr"
      },
      "source": [
        "* OBJETO"
      ]
    },
    {
      "cell_type": "code",
      "execution_count": null,
      "metadata": {
        "colab": {
          "base_uri": "https://localhost:8080/"
        },
        "id": "BGr-KldCRBOL",
        "outputId": "4cb28bcb-89c2-4fb9-fe90-108a95e1e2c4"
      },
      "outputs": [
        {
          "name": "stdout",
          "output_type": "stream",
          "text": [
            "La suma de 5 + 3 =  8\n"
          ]
        }
      ],
      "source": [
        "print( \"La suma de 5 + 3 = \", objCalculadora.sumar(5,3) )"
      ]
    },
    {
      "cell_type": "markdown",
      "metadata": {
        "id": "KQO5UFOyUYI6"
      },
      "source": [
        "**PARCIAL I DE PROGRMACION\n",
        " NOMBRE: HENRY ANDERSON SANCHEZ CORTEZ USSS030722\n",
        " Desarrolle un algoritmo en Python que calcule el IMPUESTO A LAS ACTIVIDADES ECONOMICAS de acuerdo con la siguiente tabla, El monto de la actividad económica debe ser introducido por el usuario**"
      ]
    },
    {
      "cell_type": "code",
      "execution_count": null,
      "metadata": {
        "colab": {
          "base_uri": "https://localhost:8080/"
        },
        "id": "gqhSdOfyUpA8",
        "outputId": "be9cece1-6d91-49f6-ea70-8a8a9dcce79c"
      },
      "outputs": [
        {
          "output_type": "stream",
          "name": "stdout",
          "text": [
            "Ingrese su actividad economica: 40000\n",
            "Su valor a pagar es:  72.99999\n"
          ]
        }
      ],
      "source": [
        "actividad = float(input(\"Monto de Actividad Economica: \"))\n",
        "\n",
        "if (actividad >= 0.01 and actividad <=500):#Numero 1\n",
        "  precio = 1.5\n",
        "  adicional = 0\n",
        "  op1 = actividad - 0.01\n",
        "  opfinal = (op1 / 1000)*adicional+precio\n",
        "  print(\"el valor de pagar es: \",str(opfinal))\n",
        "\n",
        "elif (actividad >= 500.01 and actividad <=1000):#Numero 2\n",
        "  precio = 1.5\n",
        "  adicional = 3\n",
        "  op1 = actividad - 500.01\n",
        "  opfinal = (op1 / 1000)*adicional+precio\n",
        "  print(\"el valor de pagar es: \",str(opfinal))\n",
        "\n",
        "elif (actividad >= 1000.01 and actividad <=2000): #Numero 3\n",
        "  precio = 3\n",
        "  adicional = 3\n",
        "  op1 = actividad - 1000.01\n",
        "  opfinal = (op1 / 1000)*adicional+precio\n",
        "  print(\"el valor de pagar es: \",str(opfinal))\n",
        "\n",
        "elif (actividad >= 2000.01 and actividad <=3000): #Numero 4\n",
        "  precio = 6\n",
        "  adicional = 3\n",
        "  op1 = actividad - 2000.01\n",
        "  opfinal = (op1 / 1000)*adicional+precio\n",
        "  print(\"el valor de pagar es: \",str(opfinal))\n",
        "\n",
        "elif (actividad >= 3000.01 and actividad <=6000): #Numero 5\n",
        "  precio = 9\n",
        "  adicional = 2\n",
        "  op1 = actividad - 3000.01\n",
        "  opfinal = (op1 / 1000)*adicional+precio\n",
        "  print(\"el valor de pagar es: \",str(opfinal))\n",
        "\n",
        "elif (actividad >= 8000.01 and actividad <=18000): #Numero 6\n",
        "  precio = 15\n",
        "  adicional = 2\n",
        "  op1 = actividad - 8000.01\n",
        "  opfinal = (op1 / 1000)*adicional+precio\n",
        "  print(\"el valor de pagar es: \",str(opfinal))\n",
        "\n",
        "elif (actividad >= 18000.01 and actividad <=30000): #Numero 7\n",
        "  precio = 39\n",
        "  adicional = 2\n",
        "  op1 = actividad - 18000.01\n",
        "  opfinal = (op1 / 1000)*adicional+precio\n",
        "  print(\"el valor de pagar es: \",str(opfinal))\n",
        "\n",
        "elif (actividad >= 30000.01 and actividad <=60000): #Numero 8\n",
        "  precio = 63\n",
        "  adicional = 1\n",
        "  op1 = actividad - 30000.01\n",
        "  opfinal = (op1 / 1000)*adicional+precio\n",
        "  print(\"el valor de pagar es: \",str(opfinal))\n",
        "\n",
        "elif (actividad >= 60000.01 and actividad <=100000): #Numero 9\n",
        "  precio = 93\n",
        "  adicional = 0.8\n",
        "  op1 = actividad - 60000.01\n",
        "  opfinal = (op1 / 1000)*adicional+precio\n",
        "  print(\"el valor de pagar es: \",str(opfinal))\n",
        "\n",
        "elif (actividad >= 100000.01 and actividad <=200000): #Numero 10\n",
        "  precio = 125\n",
        "  adicional = 0.7\n",
        "  op1 = actividad - 100000.01\n",
        "  opfinal = (op1 / 1000)*adicional+precio\n",
        "  print(\"el valor de pagar es: \",str(opfinal))\n",
        "\n",
        "elif (actividad >= 200000.01 and actividad <=300000): #Numero 11\n",
        "  precio = 195\n",
        "  adicional = 0.6\n",
        "  op1 = actividad - 200000.01\n",
        "  opfinal = (op1 / 1000)*adicional+precio\n",
        "  print(\"el valor de pagar es: \",str(opfinal))\n",
        "\n",
        "elif (actividad >= 300000.01 and actividad <=400000): #Numero 12\n",
        "  precio = 255\n",
        "  adicional = 0.45\n",
        "  op1 = actividad - 300000.01\n",
        "  opfinal = (op1 / 1000)*adicional+precio\n",
        "  print(\"el valor de pagar es: \",str(opfinal))\n",
        "\n",
        "elif (actividad >= 400000.01 and actividad <=500000): #Numero 13\n",
        "  precio = 300\n",
        "  adicional = 0.4\n",
        "  op1 = actividad - 400000.01\n",
        "  opfinal = (op1 / 1000)*adicional+precio\n",
        "  print(\"el valor de pagar es: \",str(opfinal))\n",
        "\n",
        "elif (actividad >= 500000.01 and actividad <=1000000): #Numero 14\n",
        "  precio = 340\n",
        "  adicional = 0.30\n",
        "  op1 = actividad - 500000.01\n",
        "  opfinal = (op1 / 1000)*adicional+precio\n",
        "  print(\"el valor de pagar es: \",str(opfinal))\n",
        "\n",
        "elif (actividad >= 1000000.01 and actividad <=99999999): #Numero 15\n",
        "  precio = 490\n",
        "  adicional = 0.18\n",
        "  op1 = actividad - 1000000.01\n",
        "  opfinal = (op1 / 1000)*adicional+precio\n",
        "  print(\"el valor de pagar es: \",str(opfinal))"
      ]
    }
  ],
  "metadata": {
    "colab": {
      "provenance": [],
      "include_colab_link": true
    },
    "kernelspec": {
      "display_name": "Python 3",
      "name": "python3"
    },
    "language_info": {
      "name": "python"
    }
  },
  "nbformat": 4,
  "nbformat_minor": 0
}